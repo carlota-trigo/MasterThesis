{
 "cells": [
  {
   "cell_type": "code",
   "execution_count": 1,
   "metadata": {},
   "outputs": [
    {
     "name": "stdout",
     "output_type": "stream",
     "text": [
      "RoboHive:> Registering Arms Envs\n"
     ]
    },
    {
     "name": "stderr",
     "output_type": "stream",
     "text": [
      "/home/carlota/miniconda3/lib/python3.7/site-packages/skvideo/__init__.py:306: UserWarning: ffmpeg/ffprobe not found in path: /home/carlota/miniconda3/lib/python3.7/site-packages/ffmpeg\n",
      "  warnings.warn(\"ffmpeg/ffprobe not found in path: \" + str(path), UserWarning)\n"
     ]
    },
    {
     "name": "stdout",
     "output_type": "stream",
     "text": [
      "RoboHive:> Registering Myo Envs\n",
      "RoboHive:> Registering Hand Envs\n",
      "RoboHive:> Registering Appliances Envs\n",
      "RoboHive:> Registering Kitchen Envs\n",
      "RoboHive:> Registering Multi-Task (2 subtasks) Envs\n",
      "RoboHive:> Registering Multi-Task (9 subtasks) Envs\n",
      "RoboHive:> Registering TCDM Envs\n",
      "RoboHive:> Registering Claw Envs\n"
     ]
    }
   ],
   "source": [
    "import gym\n",
    "from gym import spaces\n",
    "from tqdm import tqdm\n",
    "import mujoco_py\n",
    "import mj_envs\n",
    "import numpy as np\n",
    "from stable_baselines3 import PPO\n",
    "from stable_baselines3.common.vec_env import DummyVecEnv, SubprocVecEnv\n",
    "from stable_baselines3.common.utils import set_random_seed\n",
    "from stable_baselines3.common.evaluation import evaluate_policy\n",
    "from stable_baselines3.common.env_util import make_vec_env\n",
    "from stable_baselines3.common.callbacks import EvalCallback\n",
    "from tensorboard.backend.event_processing.event_accumulator import EventAccumulator\n",
    "from tensorboard.backend.event_processing.reservoir import Reservoir\n",
    "from plottingStuff import storeData   \n",
    "import matplotlib.pyplot as plt\n",
    "import skvideo.io\n",
    "import os\n",
    "import pickle\n",
    "import random\n",
    "from matplotlib.backends.backend_pdf import PdfPages \n",
    "from plottingStuff import storeData, plotMuscleActivation, plotMuscleForce, plotMuscleLength, plotJointQpos, plotCOM, plotErrorAndReward\n",
    "\n"
   ]
  },
  {
   "cell_type": "code",
   "execution_count": 2,
   "metadata": {},
   "outputs": [
    {
     "name": "stdout",
     "output_type": "stream",
     "text": [
      "['2023_05_20_18_39_50']\n",
      "2023_05_20_18_39_50\n"
     ]
    }
   ],
   "source": [
    "nb_seed = 1\n",
    "# Making automatic True will run the code for the last policy that was generated\n",
    "# If automatic is false, it will loop through all files in the policy_best_model folder. \n",
    "automatic = False\n",
    "selected = True # If selected = true, make sure you write the file you want :)\n",
    "selected_file = ['2023_05_17_18_05_04']\n",
    "# Which output do you want? \n",
    "movie = True\n",
    "img = False\n",
    "pdf = False\n",
    "\n",
    "env_name = 'myoLegReachFixed-v1'\n",
    "dir_path = \"/home/carlota/Documents/MyoLeg_script_test/standingBalance/policy_best_model/\" + env_name\n",
    "all_dirs = [d for d in os.listdir(dir_path) if os.path.isdir(os.path.join(dir_path, d))]\n",
    "\n",
    "if automatic:\n",
    "    # sort the directories by creation time, newest first\n",
    "    sorted_dirs = sorted(all_dirs, key=lambda d: os.path.getctime(os.path.join(dir_path, d)), reverse=True)\n",
    "    # get the name of the latest created directory\n",
    "    latest_dir_name = sorted_dirs[0]\n",
    "    # create the file name using the format \"year_month_day_hour_minute_second\"\n",
    "    last_file = \"{}\".format(latest_dir_name)\n",
    "    name_list = [last_file]\n",
    "else: \n",
    "    if selected: name_list = selected_file\n",
    "    else: name_list = all_dirs \n",
    "print(name_list)\n",
    "data_store = []\n",
    "name = name_list[0]\n",
    "print(name)\n"
   ]
  },
  {
   "cell_type": "code",
   "execution_count": 3,
   "metadata": {},
   "outputs": [
    {
     "name": "stderr",
     "output_type": "stream",
     "text": [
      "/home/carlota/miniconda3/lib/python3.7/site-packages/torch/cuda/__init__.py:52: UserWarning: CUDA initialization: Unexpected error from cudaGetDeviceCount(). Did you run some cuda functions before calling NumCudaDevices() that might have already set an error? Error 804: forward compatibility was attempted on non supported HW (Triggered internally at  /pytorch/c10/cuda/CUDAFunctions.cpp:100.)\n",
      "  return torch._C._cuda_getDeviceCount() > 0\n"
     ]
    },
    {
     "name": "stdout",
     "output_type": "stream",
     "text": [
      "RoboHive:> For environment credits, please cite -\n",
      "    RoboHive: A unified framework for robot learning | https://sites.google.com/view/robohive\n",
      "    \n",
      "Configuring a new session for default_robot(sim)\n",
      "{'positionError': 1, 'smallErrorBonus': 0, 'metabolicCost': 1, 'highError': 0, 'centerOfMass': 1}\n"
     ]
    },
    {
     "name": "stderr",
     "output_type": "stream",
     "text": [
      "/home/carlota/miniconda3/lib/python3.7/site-packages/numpy/core/fromnumeric.py:87: VisibleDeprecationWarning: Creating an ndarray from ragged nested sequences (which is a list-or-tuple of lists-or-tuples-or ndarrays with different lengths or shapes) is deprecated. If you meant to do this, you must specify 'dtype=object' when creating the ndarray.\n",
      "  return ufunc.reduce(obj, axis, dtype, out, **passkwargs)\n"
     ]
    },
    {
     "data": {
      "text/plain": [
       "200"
      ]
     },
     "execution_count": 3,
     "metadata": {},
     "output_type": "execute_result"
    }
   ],
   "source": [
    "file_name = name\n",
    "policy_path = dir_path + '/' + file_name + '/best_model.zip'\n",
    "\n",
    "model = PPO.load(policy_path)\n",
    "env = gym.make(env_name) \n",
    "print(env.rwd_keys_wt)\n",
    "env.reset()\n",
    "random.seed() \n",
    "steps = 700\n",
    "env.horizon"
   ]
  },
  {
   "cell_type": "code",
   "execution_count": 4,
   "metadata": {},
   "outputs": [
    {
     "name": "stderr",
     "output_type": "stream",
     "text": [
      "100%|██████████| 1000/1000 [14:56<00:00,  1.12it/s]\n"
     ]
    }
   ],
   "source": [
    "dataStore = {}\n",
    "dataStore['modelInfo'] = {}\n",
    "dataStore['modelInfo']['bodyNames'] = env.sim.model.body_names\n",
    "dataStore['modelInfo']['jointNames'] = env.sim.model.joint_names\n",
    "dataStore['modelInfo']['tendonNames'] = env.sim.model.tendon_names\n",
    "dataStore['modelInfo']['rewardWeights'] = env.rwd_keys_wt\n",
    "dataStore['modelInfo']['trainingSteps'] = 15000000\n",
    "dataStore['modelInfo']['testSteps'] = steps\n",
    "dataStore['modelInfo']['perturbationMagnitude'] = env.perturbation_magnitude\n",
    "dataStore['modelInfo']['perturbationTime'] = env.perturbation_time\n",
    "for _ in tqdm(range(dataStore['modelInfo']['testSteps'])):       \n",
    "    obs = env.get_obs_vec()\n",
    "    action, __ = model.predict(obs, deterministic=True)\n",
    "    \n",
    "    env.sim.data.ctrl[:] = action\n",
    "    env.step(action)\n",
    "    \n",
    "    if _ == 0 :                \n",
    "        dataStore['modelInfo']['targetPosition'] = {}\n",
    "        dataStore['modelInfo']['reachError'] = {}\n",
    "        dataStore['modelInfo']['tipPosition'] = {}\n",
    "        dataStore['modelInfo']['rewardDict'] = {}\n",
    "        \n",
    "        dataStore['stateInfo'] = {}\n",
    "\n",
    "        dataStore['jointInfo'] = {}\n",
    "        dataStore['jointInfo']['qpos'] = {}\n",
    "        dataStore['jointInfo']['qvel'] = {}\n",
    "        dataStore['jointInfo']['qacc'] = {}\n",
    "        dataStore['jointInfo']['torque'] = {}\n",
    "\n",
    "        dataStore['jointInfo']['ROM'] = {}\n",
    "\n",
    "        data_joint = {}\n",
    "        for i, joint in enumerate(env.sim.model.joint_names):\n",
    "                data_joint[joint] = {}\n",
    "                data_joint[joint]['MinRom'] =  env.sim.model.jnt_range[env.sim.model.joint_name2id(joint), 0].copy()\n",
    "                data_joint[joint]['MaxRom'] = env.sim.model.jnt_range[env.sim.model.joint_name2id(joint), 1].copy()\n",
    "        dataStore['jointInfo']['ROM'] =  data_joint\n",
    "        \n",
    "        dataStore['bodyInfo'] = {}\n",
    "        dataStore['bodyInfo']['com'] = {}   \n",
    "        dataStore['bodyInfo']['bos'] = {}\n",
    "        dataStore['bodyInfo']['xipos'] = {}\n",
    "        dataStore['bodyInfo']['xpos'] = {} \n",
    "        dataStore['bodyInfo']['grf'] = {}\n",
    "        dataStore['bodyInfo']['grf']['rToes'] = {}\n",
    "        dataStore['bodyInfo']['grf']['lToes'] = {}\n",
    "        dataStore['bodyInfo']['grf']['rCal'] = {}\n",
    "        dataStore['bodyInfo']['grf']['lCal'] = {}\n",
    "               \n",
    "        dataStore['muscleInfo'] = {}\n",
    "        dataStore['muscleInfo']['action'] = {}\n",
    "        dataStore['muscleInfo']['muscleForce'] = {}\n",
    "        dataStore['muscleInfo']['muscleActivation'] = {}\n",
    "        dataStore['muscleInfo']['muscleLength'] = {}\n",
    "        dataStore['muscleInfo']['muscleMoment'] = {}\n",
    "        dataStore['muscleInfo']['muscleVelocity'] = {}\n",
    "\n",
    "        dataStore['tensorBoard'] = {}\n",
    "        dataStore['tensorBoard']['meanReward'] = {}\n",
    "        dataStore['tensorBoard']['epMeanReward'] = {}\n",
    "        \n",
    "        dataStore['videoInfo'] = {}\n",
    "        dataStore['videoInfo']['framesSide'] = {}\n",
    "        dataStore['videoInfo']['framesFront'] = {}\n",
    "        \n",
    "        state = []\n",
    "        targetPosition, reachError, tipPosition, rewardDict = [], [], [], []\n",
    "        qpos, qvel, qacc, torque = [], [], [], []\n",
    "        com, bos, xpos, xipos, grf_rToes, grf_lToes, grf_rCal, grf_lCal = [], [], [], [], [], [], [], []\n",
    "        muscleAction, muscleForce, muscleActivation, muscleLength, muscleMoment, muscleVelocity = [], [], [], [], [], []\n",
    "        frames_side, frames_front = [], []\n",
    "\n",
    "    # state.append(env.env.get_env_state())    \n",
    "    targetPosition.append(env.obs_dict['target_pos'].copy())\n",
    "    reachError.append(env.obs_dict['reach_err'].copy())\n",
    "    tipPosition.append(env.obs_dict['tip_pos'].copy())\n",
    "    rewardDict.append(env.get_reward_dict(env.get_obs_dict(env.sim)).copy())\n",
    "\n",
    "    # Joint Info\n",
    "    qpos.append(env.sim.data.qpos.copy())\n",
    "    qvel.append(env.sim.data.qvel.copy())\n",
    "    qacc.append(env.sim.data.qacc.copy())\n",
    "    torque.append(env.sim.data.qfrc_actuator[6:].copy())\n",
    "    \n",
    "    # Body Info\n",
    "    com.append(env.obs_dict['com'].copy())\n",
    "    bos.append(env.obs_dict['base_support'].copy())\n",
    "    xpos.append(env.sim.data.body_xpos.copy())\n",
    "    xipos.append(env.sim.data.xipos.copy())\n",
    "    grf_rToes.append(env.sim.data.get_sensor('r_toes').copy())\n",
    "    grf_lToes.append(env.sim.data.get_sensor('l_toes').copy())\n",
    "    grf_rCal.append(env.sim.data.get_sensor('r_foot').copy())\n",
    "    grf_lCal.append(env.sim.data.get_sensor('l_foot').copy())\n",
    "    \n",
    "    # Muscle Info\n",
    "    muscleAction.append(action.copy())\n",
    "    muscleForce.append(env.sim.data.actuator_force.copy())\n",
    "    muscleActivation.append(env.sim.data.act.copy())       \n",
    "    muscleLength.append(env.sim.data.actuator_length.copy())\n",
    "    muscleMoment.append(env.sim.data.actuator_moment.copy())\n",
    "    muscleVelocity.append(env.sim.data.actuator_velocity.copy())\n",
    "    \n",
    "    geom_1_indices = np.where(env.sim.model.geom_group == 1)\n",
    "    env.sim.model.geom_rgba[geom_1_indices, 3] = 0\n",
    "    frame_side = env.sim.sim.render(width=800, height=800,mode='offscreen', camera_name='side_view') # if slow see https://github.com/facebookresearch/myosuite/blob/main/setup/README.md\n",
    "    frames_side.append(frame_side[::-1,:,:])\n",
    "    frame_front = env.sim.sim.render(width=800, height=800,mode='offscreen', camera_name='front_view') # if slow see https://github.com/facebookresearch/myosuite/blob/main/setup/README.md\n",
    "    frames_front.append(frame_front[::-1,:,:])\n",
    "\n",
    "\n",
    "tb_logdir = \"/home/carlota/Documents/MyoLeg_script_test/standingBalance/temp_env_tensorboard/\"+env_name + \"_\" + file_name + \"_1\"\n",
    "event_accumulator = EventAccumulator(tb_logdir)\n",
    "event_accumulator.Reload()\n",
    "events = event_accumulator.Scalars('rollout/ep_rew_mean')\n",
    "ep_rew_mean = [x.value for x in events]\n",
    "events = event_accumulator.Scalars('eval/mean_reward')\n",
    "mean_reward= [x.value for x in events]\n",
    "\n",
    "dataStore['modelInfo']['targetPosition'] = targetPosition\n",
    "dataStore['modelInfo']['rewardDict'] = rewardDict\n",
    "dataStore['modelInfo']['tipPosition'] = tipPosition\n",
    "dataStore['modelInfo']['reachError'] = reachError\n",
    "\n",
    "#dataStore['stateInfo'] = state\n",
    "\n",
    "dataStore['jointInfo']['qpos'] = qpos\n",
    "dataStore['jointInfo']['qvel'] = qvel\n",
    "dataStore['jointInfo']['qacc'] = qacc\n",
    "dataStore['jointInfo']['torque'] = torque\n",
    "\n",
    "dataStore['bodyInfo']['com'] = com\n",
    "dataStore['bodyInfo']['bos'] = bos\n",
    "dataStore['bodyInfo']['xpos'] = xpos\n",
    "dataStore['bodyInfo']['xipos'] = xipos\n",
    "dataStore['bodyInfo']['grf']['rToes'] = grf_rToes\n",
    "dataStore['bodyInfo']['grf']['lToes'] = grf_lToes\n",
    "dataStore['bodyInfo']['grf']['rCal'] = grf_rCal\n",
    "dataStore['bodyInfo']['grf']['lCal'] = grf_lCal\n",
    "\n",
    "dataStore['muscleInfo']['action'] = muscleAction\n",
    "dataStore['muscleInfo']['muscleForce'] = muscleForce\n",
    "dataStore['muscleInfo']['muscleActivation'] = muscleActivation      \n",
    "dataStore['muscleInfo']['muscleLength'] = muscleLength\n",
    "dataStore['muscleInfo']['muscleMoment'] = muscleMoment\n",
    "dataStore['muscleInfo']['muscleVelocity'] = muscleVelocity\n",
    "\n",
    "dataStore['tensorBoard']['epMeanReward'] = ep_rew_mean    \n",
    "dataStore['tensorBoard']['meanReward'] = mean_reward\n",
    "\n",
    "dataStore['videoInfo']['framesSide'] = frames_side\n",
    "dataStore['videoInfo']['framesFront'] = frames_front"
   ]
  },
  {
   "cell_type": "code",
   "execution_count": 5,
   "metadata": {},
   "outputs": [
    {
     "name": "stdout",
     "output_type": "stream",
     "text": [
      "dictionary saved successfully to file\n"
     ]
    }
   ],
   "source": [
    "pkl_path = '/home/carlota/Documents/output/PKL/' + env_name + '/'\n",
    "data= dataStore\n",
    "frames_front = data['videoInfo']['framesFront']\n",
    "frames_side = data['videoInfo']['framesSide']\n",
    "data['videoInfo'] = {}\n",
    "\n",
    "os.makedirs(pkl_path, exist_ok=True)\n",
    "with open(pkl_path + name + '.pkl', 'wb') as fp:\n",
    "    pickle.dump(data, fp)\n",
    "    print('dictionary saved successfully to file')"
   ]
  },
  {
   "cell_type": "code",
   "execution_count": 6,
   "metadata": {},
   "outputs": [
    {
     "name": "stdout",
     "output_type": "stream",
     "text": [
      "Making movie\n",
      "Movie saved successfully to file\n"
     ]
    }
   ],
   "source": [
    "print('Making movie')\n",
    "video_path = '/home/carlota/Documents/output/videos/' + env_name + '/'\n",
    "os.makedirs( video_path, exist_ok=True)\n",
    "\n",
    "# make a local copy \n",
    "skvideo.io.vwrite(video_path + file_name + '_side' + '.mp4', np.asarray(frames_side), inputdict = {'-r':'100'}, outputdict={\"-pix_fmt\": \"yuv420p\"})\n",
    "skvideo.io.vwrite(video_path + file_name +  '_front' + '.mp4', np.asarray(frames_front), inputdict = {'-r':'100'}, outputdict={\"-pix_fmt\": \"yuv420p\"})\n",
    "print('Movie saved successfully to file')\n"
   ]
  }
 ],
 "metadata": {
  "kernelspec": {
   "display_name": "Python 3 (ipykernel)",
   "language": "python",
   "name": "python3"
  },
  "language_info": {
   "codemirror_mode": {
    "name": "ipython",
    "version": 3
   },
   "file_extension": ".py",
   "mimetype": "text/x-python",
   "name": "python",
   "nbconvert_exporter": "python",
   "pygments_lexer": "ipython3",
   "version": "3.7.13"
  }
 },
 "nbformat": 4,
 "nbformat_minor": 2
}
